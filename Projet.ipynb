{
 "cells": [
  {
   "cell_type": "markdown",
   "metadata": {},
   "source": [
    "<div class=\"alert alert-block alert-info\" align=\"center\">\n",
    "    <h1>\n",
    "        Imports\n",
    "    </h1>\n",
    "</div>"
   ]
  },
  {
   "cell_type": "code",
   "execution_count": 1,
   "metadata": {},
   "outputs": [],
   "source": [
    "import requests\n",
    "from bs4 import BeautifulSoup\n",
    "import io\n",
    "import networkx as nx\n",
    "import matplotlib.pyplot as plt\n",
    "import re"
   ]
  },
  {
   "cell_type": "markdown",
   "metadata": {},
   "source": [
    "<div class=\"alert alert-block alert-info\" align=\"center\">\n",
    "    <h1>\n",
    "        Fonctions\n",
    "    </h1>\n",
    "</div>"
   ]
  },
  {
   "cell_type": "code",
   "execution_count": 2,
   "metadata": {},
   "outputs": [],
   "source": [
    "def get_edges(graphe):\n",
    "    for i in range(len(graphe)-1):\n",
    "        print(dicto[graphe[i]] + ' ' + G[graphe[i]][graphe[i+1]]['label'] + ' ' + dicto[graphe[i+1]])"
   ]
  },
  {
   "cell_type": "markdown",
   "metadata": {},
   "source": [
    "<div class=\"alert alert-block alert-info\" align=\"center\">\n",
    "    <h1>\n",
    "        Lecture de la phrase\n",
    "    </h1>\n",
    "</div>"
   ]
  },
  {
   "cell_type": "code",
   "execution_count": 6,
   "metadata": {},
   "outputs": [
    {
     "data": {
      "image/png": "[encoded data removed]",
      "text/plain": [
       "<Figure size 432x288 with 1 Axes>"
      ]
     },
     "metadata": {},
     "output_type": "display_data"
    }
   ],
   "source": [
    "phrase = 'poisson est animal le chat est aussi un animal'.split(' ')\n",
    "dicto = {}\n",
    "\n",
    "G = nx.DiGraph()\n",
    "\n",
    "for i in range(len(phrase)-1):\n",
    "    G.add_edges_from([(i, i+1)], label='r_succ')\n",
    "    dicto[i] = phrase[i]\n",
    "    if(i == len(phrase)-2):\n",
    "        dicto[i+1] = phrase[i+1]\n",
    "\n",
    "edge_labels = dict([((u,v,),d['label']) for u,v,d in G.edges(data=True)])\n",
    "\n",
    "pos = nx.spring_layout(G)\n",
    "\n",
    "nx.draw_networkx_edge_labels(G,pos,edge_labels=edge_labels)\n",
    "\n",
    "nx.draw(G, pos, with_labels=True, node_size=2000,edge_cmap=plt.cm.Reds)\n",
    "\n",
    "plt.show()"
   ]
  },
  {
   "cell_type": "markdown",
   "metadata": {},
   "source": [
    "<div class=\"alert alert-block alert-info\" align=\"center\">\n",
    "    <h1>\n",
    "        Affichage\n",
    "    </h1>\n",
    "</div>"
   ]
  },
  {
   "cell_type": "code",
   "execution_count": 7,
   "metadata": {},
   "outputs": [
    {
     "name": "stdout",
     "output_type": "stream",
     "text": [
      "[0, 1, 2, 3, 4, 5, 6, 7, 8]\n",
      "[(0, 1), (1, 2), (2, 3), (3, 4), (4, 5), (5, 6), (6, 7), (7, 8)]\n",
      "0\n",
      "(0, 1)\n",
      "{'label': 'r_succ'}\n",
      "r_succ\n",
      "poisson r_succ est\n",
      "est r_succ animal\n",
      "animal r_succ le\n",
      "le r_succ chat\n",
      "chat r_succ est\n",
      "est r_succ aussi\n",
      "aussi r_succ un\n",
      "un r_succ animal\n"
     ]
    }
   ],
   "source": [
    "print(list(G.nodes))\n",
    "print(list(G.edges))\n",
    "print(list(G.nodes)[0])\n",
    "print(list(G.edges)[0])\n",
    "print(G[0][1])\n",
    "print(G.edges[0, 1]['label'])\n",
    "\n",
    "graphe = list(G.nodes)\n",
    "get_edges(graphe)"
   ]
  },
  {
   "cell_type": "markdown",
   "metadata": {},
   "source": [
    "<div class=\"alert alert-block alert-info\" align=\"center\">\n",
    "    <h1>\n",
    "        Extraire les relations\n",
    "    </h1>\n",
    "</div>"
   ]
  },
  {
   "cell_type": "code",
   "execution_count": null,
   "metadata": {},
   "outputs": [],
   "source": []
  },
  {
   "cell_type": "markdown",
   "metadata": {},
   "source": [
    "<div class=\"alert alert-block alert-info\" align=\"center\">\n",
    "    <h1>\n",
    "        Utilisation de jeux de mots\n",
    "    </h1>\n",
    "</div>"
   ]
  },
  {
   "cell_type": "markdown",
   "metadata": {},
   "source": [
    "# Récupération des informations sur les mots"
   ]
  },
  {
   "cell_type": "code",
   "execution_count": 8,
   "metadata": {
    "scrolled": true
   },
   "outputs": [
    {
     "name": "stdout",
     "output_type": "stream",
     "text": [
      "poisson n'existe pas\n",
      "est n'existe pas\n",
      "animal n'existe pas\n",
      "le n'existe pas\n",
      "chat n'existe pas\n",
      "est existe\n",
      "aussi n'existe pas\n",
      "un n'existe pas\n",
      "animal existe\n"
     ]
    }
   ],
   "source": [
    "# Mots déjà existants\n",
    "exists = []\n",
    "\n",
    "for word in phrase:\n",
    "    if(word not in exists):\n",
    "        print(word + ' n\\'existe pas')\n",
    "        # Envoie de la requete à jdm\n",
    "        url = \"http://www.jeuxdemots.org/rezo-dump.php?gotermsubmit=Chercher&gotermrel=\" + word + \"&rel=\"\n",
    "        exists.append(word)\n",
    "\n",
    "        # Reponse de la requete\n",
    "        response = requests.get(url)\n",
    "\n",
    "        # bs4\n",
    "        soup = BeautifulSoup(response.text, features = 'lxml')\n",
    "\n",
    "        # Chercher la balise CODE\n",
    "        mycode = soup.find('code')\n",
    "        \n",
    "#         # Traitement sur les relations\n",
    "#         # Parcourir la balise CODE\n",
    "#         s = io.StringIO(str(mycode))\n",
    "#         for line in s:\n",
    "#             if(re.match('e;.*;\\'' + f + '\\';.*;.*', line)):\n",
    "#                 a1 = line.split(';')[1]\n",
    "#             if(re.match('r;.*;\\'' + str(type_map[k]) + '\\';.*;.*', line)):\n",
    "#                 a2 = line.split(';')[1]\n",
    "#             if(re.match('r;.*;\\'' + str(type_map[k]) + '\\';.*;.*', line)):\n",
    "#                 r;15821256;42271;146885;4;27\n",
    "#                 if(int(line.split(';')[5]) > 0):\n",
    "#                     words_list4.update(generate_dict(f, k))\n",
    "#                     break\n",
    "        \n",
    "        f = open(\"words/\" + word + \".txt\", \"w\")\n",
    "        f.write(str(mycode))\n",
    "        f.close()\n",
    "    else:\n",
    "        print(word + ' existe')\n",
    "        # Open and read the file after the appending:\n",
    "        f = open(\"words/\" + word + \".txt\", \"r\")\n",
    "        #print(f.read())\n",
    "        f.close()"
   ]
  },
  {
   "cell_type": "markdown",
   "metadata": {},
   "source": [
    "# Vérifier si les relations existent"
   ]
  },
  {
   "cell_type": "markdown",
   "metadata": {},
   "source": [
    "Si oui : ok\n",
    "<br/>\n",
    "Si non : dire pourquoi\n",
    "<br/>\n",
    "Si ne sait pas : chercher l'inférence et donner l'explication"
   ]
  },
  {
   "cell_type": "code",
   "execution_count": null,
   "metadata": {},
   "outputs": [],
   "source": []
  }
 ],
 "metadata": {
  "kernelspec": {
   "display_name": "Python 3",
   "language": "python",
   "name": "python3"
  },
  "language_info": {
   "codemirror_mode": {
    "name": "ipython",
    "version": 3
   },
   "file_extension": ".py",
   "mimetype": "text/x-python",
   "name": "python",
   "nbconvert_exporter": "python",
   "pygments_lexer": "ipython3",
   "version": "3.7.4"
  }
 },
 "nbformat": 4,
 "nbformat_minor": 2
}
